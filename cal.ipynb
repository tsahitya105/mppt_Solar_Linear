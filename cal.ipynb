{
 "cells": [
  {
   "cell_type": "code",
   "execution_count": 4,
   "metadata": {
    "collapsed": true
   },
   "outputs": [],
   "source": [
    "from __future__ import division\n",
    "import numpy as np\n",
    "def Pow(v,g,t):\n",
    "\tk = float(1)\n",
    "\tk = np.float(t/300)\n",
    "\tIph = g * 241.935 * 1e-4*(1.6/4.88)\n",
    "\ti = (-1e-9*(2.73**(v/(0.0258*k)) - 1) + Iph)\n",
    "\tP = v * i\n",
    "\tif g is 0:\n",
    "\t\treturn 0\n",
    "\treturn(np.float(P))\n",
    "\n",
    "def pr(v,g,t):\n",
    "\tP1 = Pow(v,g,t)\n",
    "\twhile(1):\n",
    "\t\tif(Pow(v+0.001,g,t)>P1):\n",
    "\t\t\tv=v+0.001\n",
    "\t\t\tP1=Pow(v,g,t)\n",
    "\t\telif(Pow(v-0.001,g,t)>P1):\n",
    "\t\t\tv=v-0.001\n",
    "\t\t\tP1=Pow(v,g,t)\n",
    "\t\telse:\t\n",
    "\t\t\tbreak\n",
    "\treturn np.float(v)\n",
    "\t\n",
    "def pando(v,g,t):\n",
    "\tP1 = Pow(v,g,t)\n",
    "\twhile(1):\n",
    "\t\tif(Pow(v+0.001,g,t)>P1):\n",
    "\t\t\tv=v+0.001\n",
    "\t\t\tP1=Pow(v,g,t)\n",
    "\t\telif(Pow(v-0.001,g,t)>P1):\n",
    "\t\t\tv=v-0.001\n",
    "\t\t\tP1=Pow(v,g,t)\n",
    "\t\telse:\t\n",
    "\t\t\tbreak\n",
    "\treturn np.float(P1)\t\t\n",
    "\t\n",
    "with open('temperature.txt') as t:\n",
    "\tte = np.asarray(t.readlines(),np.float)\n",
    "with open('solar.txt') as s:\n",
    "\tse = np.asarray(s.readlines(),np.float)\n",
    "\n",
    "'''\n",
    "f = open('TheoPower.txt','w')\n",
    "\n",
    "for i in range(0,2500):\n",
    "\tda = np.float(se[i])\n",
    "\tta = np.float(te[i])\n",
    "\ttemp = np.float(pando(0.0,da,ta))\n",
    "\tf.write(str(temp))\n",
    "\tf.write('\\n')\n",
    "\n",
    "f.close()\n",
    "'''\n",
    "\n",
    "'''\n",
    "f = open('TheoVolt.txt','w')\n",
    "\n",
    "for i in range(0,2500):\n",
    "\tda = np.float(se[i])\n",
    "\tta = np.float(te[i])\n",
    "\ttemp = np.float(pr(0.0,da,ta))\n",
    "\tf.write(str(temp))\n",
    "\tf.write('\\n')\n",
    "\n",
    "f.close()\n",
    "'''\n",
    "\t"
   ]
  },
  {
   "cell_type": "code",
   "execution_count": null,
   "metadata": {
    "collapsed": true
   },
   "outputs": [],
   "source": []
  }
 ],
 "metadata": {
  "kernelspec": {
   "display_name": "Python 3",
   "language": "python",
   "name": "python3"
  },
  "language_info": {
   "codemirror_mode": {
    "name": "ipython",
    "version": 3
   },
   "file_extension": ".py",
   "mimetype": "text/x-python",
   "name": "python",
   "nbconvert_exporter": "python",
   "pygments_lexer": "ipython3",
   "version": "3.6.1"
  }
 },
 "nbformat": 4,
 "nbformat_minor": 2
}
