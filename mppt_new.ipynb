{
 "cells": [
  {
   "cell_type": "code",
   "execution_count": null,
   "metadata": {
    "collapsed": true
   },
   "outputs": [],
   "source": [
    "#MPPT FILE\n"
   ]
  },
  {
   "cell_type": "code",
   "execution_count": 1,
   "metadata": {},
   "outputs": [
    {
     "name": "stdout",
     "output_type": "stream",
     "text": [
      "Initial Training for the model\n",
      "Initial Training for the model\n"
     ]
    }
   ],
   "source": [
    "import numpy as np\n",
    "import pandas as pd\n",
    "import scipy.stats as stats\n",
    "import  matplotlib.pyplot as plt\n",
    "import sklearn\n",
    "from sklearn.linear_model import LinearRegression\n",
    "import warnings\n",
    "warnings.filterwarnings(\"ignore\", category=DeprecationWarning)\n",
    "\n",
    "\n",
    "def Pow(v,g,t):\n",
    "    k = float(1)\n",
    "    k = np.float(t/300)\n",
    "    Iph = g * 241.935 * 1e-4*(1.6/4.88)\n",
    "    i = (-1e-9*(2.73**(v/(0.0258*k)) - 1) + Iph)\n",
    "    P = v * i\n",
    "    if g is 0:\n",
    "        return 0\n",
    "    return(np.float(P))\n",
    "\n",
    "\n",
    "with open('temperature.txt') as t:\n",
    "    te = np.asarray(t.readlines(),np.float)\n",
    "with open('solar.txt') as s:\n",
    "    se = np.asarray(s.readlines(),np.float)\n",
    "with open('TheoVolt.txt') as v:\n",
    "    ve = np.asarray(v.readlines(),np.float)\n",
    "with open('TheoPower.txt') as pt:\n",
    "    pe = np.asarray(pt.readlines(),np.float)\n",
    "\n",
    "dataset=[]\n",
    "d0=[te[0],se[0],ve[0]]\n",
    "d1=[te[1],se[1],ve[1]]\n",
    "dataset.append(d0)\n",
    "dataset.append(d1)\n",
    "X=pd.DataFrame(dataset, columns=['Temperature','Irradiance','Voltage'])\n",
    "Y=X.drop('Voltage',axis=1)\n",
    "\n",
    "#Let Initial Outputs be 0\n",
    "f = open('PredictedPower.txt','w')\n",
    "f1= open('PredictedVolt.txt','w')\n",
    "f.write(str(0.0))\n",
    "f1.write(str(0.0))\n",
    "f.write('\\n')\n",
    "f1.write('\\n')\n",
    "f.write(str(0.0))\n",
    "f1.write(str(0.0))\n",
    "f.write('\\n')\n",
    "f1.write('\\n')\n",
    "\n",
    "res= open('results.txt','w')\n",
    "res.write(\"Temp Irradiance TheoV PredV TheoP PreP\")\n",
    "res.write(\"\\n\")\n",
    "res.write(str(te[0])+\" \"+ str(se[0])+\" \"+ str(ve[0])+\" \"+ str(0.0)+\" \"+ str(pe[0])+\" \"+ str(0.0))\n",
    "res.write(\"\\n\")\n",
    "res.write(str(te[1])+\" \"+ str(se[1])+\" \"+ str(ve[1])+\" \"+ str(0.0)+\" \"+ str(pe[1])+\" \"+ str(0.0))\n",
    "res.write(\"\\n\")\n",
    "\n",
    "for i in range(2400):\n",
    "    if i >= 2 and se[i]>=8:\n",
    "        lm=LinearRegression()\n",
    "        lm.fit(Y,X.Voltage)\n",
    "        #predict Voltage \n",
    "        da=np.float(te[i])\n",
    "        ta=np.float(se[i])\n",
    "        predicV=np.float(lm.predict([da,ta]))\n",
    "        #Predicted Power\n",
    "        predicP=Pow(predicV,ta,da)\n",
    "        f.write(str(predicP))\n",
    "        f1.write(str(predicV))\n",
    "        f.write('\\n')\n",
    "        f1.write('\\n')\n",
    "        #print(predicP)\n",
    "        #Final Write\n",
    "        res.write(str(te[i])+\" \"+str(se[i])+\" \"+str(ve[i])+\" \"+str(predicV)+\" \"+str(pe[i])+\" \"+str(Pow(predicV,se[i],te[i])) )\n",
    "        res.write(\"\\n\")\n",
    "        #Update dataset\n",
    "        dat=[te[i],se[i],ve[i]]\n",
    "        dataset.append(dat)\n",
    "        X=pd.DataFrame(dataset, columns=['Temperature','Irradiance','Voltage'])\n",
    "        Y=X.drop('Voltage',axis=1)\n",
    "    elif i<2:\n",
    "        print(\"Initial Training for the model\")\n",
    "\n",
    "f.close()\n",
    "f1.close()\n",
    "res.close()\n",
    "\n"
   ]
  },
  {
   "cell_type": "code",
   "execution_count": null,
   "metadata": {
    "collapsed": true
   },
   "outputs": [],
   "source": []
  },
  {
   "cell_type": "code",
   "execution_count": null,
   "metadata": {
    "collapsed": true
   },
   "outputs": [],
   "source": []
  }
 ],
 "metadata": {
  "kernelspec": {
   "display_name": "Python 3",
   "language": "python",
   "name": "python3"
  },
  "language_info": {
   "codemirror_mode": {
    "name": "ipython",
    "version": 3
   },
   "file_extension": ".py",
   "mimetype": "text/x-python",
   "name": "python",
   "nbconvert_exporter": "python",
   "pygments_lexer": "ipython3",
   "version": "3.6.1"
  }
 },
 "nbformat": 4,
 "nbformat_minor": 2
}
